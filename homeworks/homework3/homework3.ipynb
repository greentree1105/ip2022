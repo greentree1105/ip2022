{
 "cells": [
  {
   "cell_type": "code",
   "execution_count": 1,
   "metadata": {},
   "outputs": [],
   "source": [
    "import numpy as np\n",
    "import cv2\n",
    "def run_main():\n",
    "    cap = cv2.VideoCapture('coin.mp4')\n",
    "    cap.set(cv2.CAP_PROP_FRAME_WIDTH, 1280)\n",
    "    cap.set(cv2.CAP_PROP_FRAME_HEIGHT, 720)\n",
    "    while(True):\n",
    "        ret, frame = cap.read()\n",
    "        roi = frame[0:1000, 0:1000]\n",
    "        gray = cv2.cvtColor(roi, cv2.COLOR_BGR2GRAY)\n",
    "        gray_blur = cv2.GaussianBlur(gray, (15, 15), 0)\n",
    "        thresh = cv2.adaptiveThreshold(gray_blur, 255, cv2.ADAPTIVE_THRESH_GAUSSIAN_C,\n",
    "                                       cv2.THRESH_BINARY_INV, 11, 1)\n",
    "        kernel = np.ones((3, 3), np.uint8)\n",
    "        closing = cv2.morphologyEx(thresh, cv2.MORPH_CLOSE,\n",
    "        kernel, iterations=4)\n",
    "        cont_img = closing.copy()\n",
    "        contours, hierarchy = cv2.findContours(cont_img, cv2.RETR_EXTERNAL,\n",
    "                                               cv2.CHAIN_APPROX_SIMPLE)\n",
    "        for cnt in contours:\n",
    "            area = cv2.contourArea(cnt)\n",
    "            if area < 8000 or area > 10000:\n",
    "                continue\n",
    "            if len(cnt) < 5:\n",
    "                continue\n",
    "            ellipse = cv2.fitEllipse(cnt)\n",
    "            cv2.ellipse(roi, ellipse, (0,255,0), 2)\n",
    "        cv2.imshow(\"Morphological Closing\", closing)\n",
    "        cv2.imshow(\"Adaptive Thresholding\", thresh)\n",
    "        cv2.imshow('Contours', roi)\n",
    "        \n",
    "        \n",
    "        if cv2.waitKey(1) & 0xFF == ord('q'):\n",
    "            break\n",
    "    cap.release()\n",
    "    cv2.destroyAllWindows()\n",
    "if __name__ == \"__main__\":\n",
    "    run_main()"
   ]
  }
 ],
 "metadata": {
  "kernelspec": {
   "display_name": "Python 3.8.13 ('opencv')",
   "language": "python",
   "name": "python3"
  },
  "language_info": {
   "codemirror_mode": {
    "name": "ipython",
    "version": 3
   },
   "file_extension": ".py",
   "mimetype": "text/x-python",
   "name": "python",
   "nbconvert_exporter": "python",
   "pygments_lexer": "ipython3",
   "version": "3.8.13"
  },
  "orig_nbformat": 4,
  "vscode": {
   "interpreter": {
    "hash": "aeda7f72136a89302193c83336c8b0f060d555fb35373ad8bff4031df6e8fe38"
   }
  }
 },
 "nbformat": 4,
 "nbformat_minor": 2
}
