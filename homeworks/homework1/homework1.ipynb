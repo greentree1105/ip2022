{
 "cells": [
  {
   "cell_type": "code",
   "execution_count": 8,
   "metadata": {},
   "outputs": [],
   "source": [
    "import cv2\n",
    "import numpy as np\n",
    "\n",
    "img = cv2.imread('beach_r.jpg')\n",
    "font = cv2.FONT_HERSHEY_SIMPLEX\n",
    "drawing = False\n",
    "mode = True\n",
    "ix,iy = -1,-1\n",
    "\n",
    "\n",
    "def draw_circle(event,x,y,flags,param):\n",
    "    global ix,iy,drawing,mode\n",
    "    \n",
    "    if event == cv2.EVENT_LBUTTONDOWN:\n",
    "        drawing = True\n",
    "        ix,iy = x,y\n",
    "    \n",
    "    \n",
    "\n",
    "\n",
    "def nothing(x):\n",
    "    pass\n",
    "\n",
    "\n",
    "\n",
    "cv2.namedWindow('image')\n",
    "cv2.createTrackbar(\"color\",'image',0,100,nothing)\n",
    "cv2.setMouseCallback('image',draw_circle)\n",
    "\n",
    "while(1):\n",
    "    color = cv2.getTrackbarPos('color','image')\n",
    "    dsp = img.copy()\n",
    "    for x in range(150):\n",
    "        for y in range(200):\n",
    "            img.itemset((120+x,240+y,1),10)\n",
    "            img.itemset((120+x,240+y,2),color)\n",
    "    cv2.putText(dsp,\"OpenCV (\"+str(ix)+\",\"+str(iy)+\")\",(10,40),font, 1,(255,255,255),2,cv2.LINE_AA)\n",
    "    cv2.imshow('image',dsp)\n",
    "    k = cv2.waitKey(1) & 0xFF\n",
    "    if k == 27:\n",
    "        break\n",
    "    \n",
    "cv2.destroyAllWindows()\n"
   ]
  }
 ],
 "metadata": {
  "kernelspec": {
   "display_name": "Python 3.8.13 ('opencv')",
   "language": "python",
   "name": "python3"
  },
  "language_info": {
   "codemirror_mode": {
    "name": "ipython",
    "version": 3
   },
   "file_extension": ".py",
   "mimetype": "text/x-python",
   "name": "python",
   "nbconvert_exporter": "python",
   "pygments_lexer": "ipython3",
   "version": "3.8.13"
  },
  "orig_nbformat": 4,
  "vscode": {
   "interpreter": {
    "hash": "e57aef5a80de0c0e424b44d9745d307f35d239b835cdc17a2138c01d18098c92"
   }
  }
 },
 "nbformat": 4,
 "nbformat_minor": 2
}
