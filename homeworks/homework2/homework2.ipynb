{
 "cells": [
  {
   "cell_type": "code",
   "execution_count": 45,
   "metadata": {},
   "outputs": [],
   "source": [
    "import cv2\n",
    "import numpy as np\n",
    "\n",
    "cap = cv2.VideoCapture(\"tracking.mp4\")\n",
    "\n",
    "while(1):\n",
    "    \n",
    "    ret, frame = cap.read()\n",
    "    \n",
    "    if ret :\n",
    "        hsv = cv2.cvtColor(frame, cv2.COLOR_BGR2HSV)\n",
    "        # define range of blue color in HSV\n",
    "        lower_blue = np.array([85,20,80])\n",
    "        upper_blue = np.array([170,255,255])\n",
    "        # Threshold the HSV image to get only blue colors\n",
    "        mask = cv2.inRange(hsv, lower_blue, upper_blue)\n",
    "        # Bitwise-AND mask and original image\n",
    "        res = cv2.bitwise_and(frame,frame, mask= mask)\n",
    "        cv2.imshow('frame',frame)\n",
    "        cv2.imshow('mask',mask)\n",
    "        cv2.imshow('res',res)\n",
    "    else:\n",
    "        break\n",
    "    k = cv2.waitKey(5) & 0xFF\n",
    "    if k == 27:\n",
    "        break\n",
    "    \n",
    "cap.release()\n",
    "cv2.destroyAllWindows()\n",
    "\n",
    "    \n"
   ]
  }
 ],
 "metadata": {
  "kernelspec": {
   "display_name": "Python 3.8.13 ('opencv')",
   "language": "python",
   "name": "python3"
  },
  "language_info": {
   "codemirror_mode": {
    "name": "ipython",
    "version": 3
   },
   "file_extension": ".py",
   "mimetype": "text/x-python",
   "name": "python",
   "nbconvert_exporter": "python",
   "pygments_lexer": "ipython3",
   "version": "3.8.13"
  },
  "orig_nbformat": 4,
  "vscode": {
   "interpreter": {
    "hash": "aeda7f72136a89302193c83336c8b0f060d555fb35373ad8bff4031df6e8fe38"
   }
  }
 },
 "nbformat": 4,
 "nbformat_minor": 2
}
